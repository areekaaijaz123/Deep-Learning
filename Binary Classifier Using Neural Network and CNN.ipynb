{
  "nbformat": 4,
  "nbformat_minor": 0,
  "metadata": {
    "colab": {
      "name": "K173913 - Assignment 2 (Part b)",
      "provenance": []
    },
    "kernelspec": {
      "name": "python3",
      "display_name": "Python 3"
    }
  },
  "cells": [
    {
      "cell_type": "code",
      "metadata": {
        "id": "rlJmHdJI9DW_"
      },
      "source": [
        "import numpy as np\r\n",
        "import pandas as pd\r\n",
        "\r\n",
        "import tensorflow as tf\r\n",
        "from keras.models import Sequential\r\n",
        "from keras.layers import Dense, Flatten, Conv2D, MaxPooling2D, Dropout\r\n",
        "from keras.losses import categorical_crossentropy\r\n",
        "from keras.optimizers import Adam\r\n",
        "from keras.utils import np_utils\r\n",
        "from sklearn.model_selection import train_test_split\r\n",
        "\r\n",
        "from keras.models import load_model\r\n",
        "import h5py"
      ],
      "execution_count": 1,
      "outputs": []
    },
    {
      "cell_type": "code",
      "metadata": {
        "id": "ENnSxVLb9ey7"
      },
      "source": [
        "with h5py.File('/content/drive/MyDrive/Deep Learning/train_catvnoncat.h5', 'r') as hdfid:\r\n",
        "     #print(hdfid.keys())\r\n",
        "     train_list_classes  = hdfid['list_classes'][()]\r\n",
        "     X_train  = hdfid['train_set_x'][()]\r\n",
        "     Y_train  = hdfid['train_set_y'][()]"
      ],
      "execution_count": 2,
      "outputs": []
    },
    {
      "cell_type": "code",
      "metadata": {
        "id": "I43_P4_c9hDe"
      },
      "source": [
        "with h5py.File('/content/drive/MyDrive/Deep Learning/test_catvnoncat.h5', 'r') as hdfid:\r\n",
        "     #print(hdfid.keys())\r\n",
        "     test_list_classes  = hdfid['list_classes'][()]\r\n",
        "     X_test  = hdfid['test_set_x'][()]\r\n",
        "     Y_test  = hdfid['test_set_y'][()]"
      ],
      "execution_count": 3,
      "outputs": []
    },
    {
      "cell_type": "code",
      "metadata": {
        "colab": {
          "base_uri": "https://localhost:8080/"
        },
        "id": "6L6_L5gEU6RX",
        "outputId": "fbca0251-3680-4a26-f439-df67a995be43"
      },
      "source": [
        "print(X_train.shape)\r\n",
        "print(Y_train.shape)\r\n",
        "print(X_test.shape)\r\n",
        "print(Y_test.shape)"
      ],
      "execution_count": 4,
      "outputs": [
        {
          "output_type": "stream",
          "text": [
            "(209, 64, 64, 3)\n",
            "(209,)\n",
            "(50, 64, 64, 3)\n",
            "(50,)\n"
          ],
          "name": "stdout"
        }
      ]
    },
    {
      "cell_type": "code",
      "metadata": {
        "id": "GiUhexBzF8aD"
      },
      "source": [
        "# Hyper Parameters\r\n",
        "batch_size = 20\r\n",
        "epochs = 20"
      ],
      "execution_count": 5,
      "outputs": []
    },
    {
      "cell_type": "code",
      "metadata": {
        "id": "CgeIPoE6Gplf"
      },
      "source": [
        "# Converting to categorical \r\n",
        "Y_train = np_utils.to_categorical(Y_train)\r\n",
        "Y_test = np_utils.to_categorical(Y_test)"
      ],
      "execution_count": 6,
      "outputs": []
    },
    {
      "cell_type": "markdown",
      "metadata": {
        "id": "16XkX5DoEDUg"
      },
      "source": [
        "# Single Layer Neural Network"
      ]
    },
    {
      "cell_type": "code",
      "metadata": {
        "colab": {
          "base_uri": "https://localhost:8080/"
        },
        "id": "b-WieW5ACyEH",
        "outputId": "9ca1c8a8-43a7-4a40-8d9a-e14bba5ba848"
      },
      "source": [
        "model1 = Sequential()\r\n",
        "\r\n",
        "model1.add(Flatten(input_shape=(64, 64, 3)))\r\n",
        "\r\n",
        "model1.add(Dense(30, activation='relu', input_shape=(X_train.shape[0], )))\r\n",
        "model1.add(Dense(2, activation = 'softmax'))\r\n",
        "\r\n",
        "model1.compile(optimizer='adam', loss='categorical_crossentropy', metrics=['accuracy'])\r\n",
        "\r\n",
        "model1.fit(X_train, Y_train, validation_data = (X_test, Y_test), epochs = epochs, verbose = 1, batch_size = batch_size)"
      ],
      "execution_count": 7,
      "outputs": [
        {
          "output_type": "stream",
          "text": [
            "Epoch 1/20\n",
            "11/11 [==============================] - 1s 50ms/step - loss: 381.2886 - accuracy: 0.5658 - val_loss: 0.6937 - val_accuracy: 0.3400\n",
            "Epoch 2/20\n",
            "11/11 [==============================] - 0s 9ms/step - loss: 0.6886 - accuracy: 0.6358 - val_loss: 0.6953 - val_accuracy: 0.3400\n",
            "Epoch 3/20\n",
            "11/11 [==============================] - 0s 10ms/step - loss: 0.6904 - accuracy: 0.6406 - val_loss: 0.6972 - val_accuracy: 0.3400\n",
            "Epoch 4/20\n",
            "11/11 [==============================] - 0s 10ms/step - loss: 0.6852 - accuracy: 0.6549 - val_loss: 0.6995 - val_accuracy: 0.3400\n",
            "Epoch 5/20\n",
            "11/11 [==============================] - 0s 9ms/step - loss: 0.6823 - accuracy: 0.6773 - val_loss: 0.7021 - val_accuracy: 0.3400\n",
            "Epoch 6/20\n",
            "11/11 [==============================] - 0s 10ms/step - loss: 0.6786 - accuracy: 0.6609 - val_loss: 0.7045 - val_accuracy: 0.3400\n",
            "Epoch 7/20\n",
            "11/11 [==============================] - 0s 9ms/step - loss: 0.6817 - accuracy: 0.6638 - val_loss: 0.7072 - val_accuracy: 0.3400\n",
            "Epoch 8/20\n",
            "11/11 [==============================] - 0s 9ms/step - loss: 0.6734 - accuracy: 0.6416 - val_loss: 0.7098 - val_accuracy: 0.3400\n",
            "Epoch 9/20\n",
            "11/11 [==============================] - 0s 9ms/step - loss: 0.6750 - accuracy: 0.6593 - val_loss: 0.7126 - val_accuracy: 0.3400\n",
            "Epoch 10/20\n",
            "11/11 [==============================] - 0s 9ms/step - loss: 0.6756 - accuracy: 0.6623 - val_loss: 0.7156 - val_accuracy: 0.3400\n",
            "Epoch 11/20\n",
            "11/11 [==============================] - 0s 9ms/step - loss: 0.6720 - accuracy: 0.6749 - val_loss: 0.7183 - val_accuracy: 0.3400\n",
            "Epoch 12/20\n",
            "11/11 [==============================] - 0s 9ms/step - loss: 0.6641 - accuracy: 0.6804 - val_loss: 0.7212 - val_accuracy: 0.3400\n",
            "Epoch 13/20\n",
            "11/11 [==============================] - 0s 9ms/step - loss: 0.6765 - accuracy: 0.6063 - val_loss: 0.7237 - val_accuracy: 0.3400\n",
            "Epoch 14/20\n",
            "11/11 [==============================] - 0s 10ms/step - loss: 0.6686 - accuracy: 0.6602 - val_loss: 0.7264 - val_accuracy: 0.3400\n",
            "Epoch 15/20\n",
            "11/11 [==============================] - 0s 9ms/step - loss: 0.6694 - accuracy: 0.6422 - val_loss: 0.7290 - val_accuracy: 0.3400\n",
            "Epoch 16/20\n",
            "11/11 [==============================] - 0s 9ms/step - loss: 0.6598 - accuracy: 0.6877 - val_loss: 0.7316 - val_accuracy: 0.3400\n",
            "Epoch 17/20\n",
            "11/11 [==============================] - 0s 9ms/step - loss: 0.6665 - accuracy: 0.6451 - val_loss: 0.7340 - val_accuracy: 0.3400\n",
            "Epoch 18/20\n",
            "11/11 [==============================] - 0s 9ms/step - loss: 0.6649 - accuracy: 0.6478 - val_loss: 0.7367 - val_accuracy: 0.3400\n",
            "Epoch 19/20\n",
            "11/11 [==============================] - 0s 8ms/step - loss: 0.6568 - accuracy: 0.6714 - val_loss: 0.7394 - val_accuracy: 0.3400\n",
            "Epoch 20/20\n",
            "11/11 [==============================] - 0s 9ms/step - loss: 0.6608 - accuracy: 0.6560 - val_loss: 0.7419 - val_accuracy: 0.3400\n"
          ],
          "name": "stdout"
        },
        {
          "output_type": "execute_result",
          "data": {
            "text/plain": [
              "<tensorflow.python.keras.callbacks.History at 0x7f15f37e6550>"
            ]
          },
          "metadata": {
            "tags": []
          },
          "execution_count": 7
        }
      ]
    },
    {
      "cell_type": "markdown",
      "metadata": {
        "id": "vlA-Bah1EHsS"
      },
      "source": [
        "# Neural Network with two Hidden Layers"
      ]
    },
    {
      "cell_type": "code",
      "metadata": {
        "colab": {
          "base_uri": "https://localhost:8080/"
        },
        "id": "hZagEY2oUJXD",
        "outputId": "cc3ba7e2-91ab-4d02-ec61-6bdc27d10fa1"
      },
      "source": [
        "model2 = Sequential()\r\n",
        "\r\n",
        "model2.add(Flatten(input_shape=(64, 64, 3)))\r\n",
        "\r\n",
        "model2.add(Dense(30, activation='relu', input_shape=(X_train.shape[0], )))\r\n",
        "model2.add(Dense(15, activation='relu'))\r\n",
        "model2.add(Dense(2, activation = 'softmax'))\r\n",
        "\r\n",
        "model2.compile(optimizer='adam', loss='categorical_crossentropy', metrics=['accuracy'])\r\n",
        "\r\n",
        "model2.fit(X_train, Y_train, validation_data = (X_test, Y_test), epochs = epochs, verbose = 1, batch_size = batch_size)"
      ],
      "execution_count": 8,
      "outputs": [
        {
          "output_type": "stream",
          "text": [
            "Epoch 1/20\n",
            "11/11 [==============================] - 1s 25ms/step - loss: 154.7041 - accuracy: 0.6157 - val_loss: 28.2006 - val_accuracy: 0.6600\n",
            "Epoch 2/20\n",
            "11/11 [==============================] - 0s 9ms/step - loss: 37.9955 - accuracy: 0.4878 - val_loss: 11.9376 - val_accuracy: 0.6200\n",
            "Epoch 3/20\n",
            "11/11 [==============================] - 0s 11ms/step - loss: 17.2349 - accuracy: 0.4899 - val_loss: 6.4990 - val_accuracy: 0.4600\n",
            "Epoch 4/20\n",
            "11/11 [==============================] - 0s 9ms/step - loss: 3.8203 - accuracy: 0.6706 - val_loss: 11.8768 - val_accuracy: 0.4200\n",
            "Epoch 5/20\n",
            "11/11 [==============================] - 0s 9ms/step - loss: 4.9394 - accuracy: 0.6063 - val_loss: 5.0599 - val_accuracy: 0.5600\n",
            "Epoch 6/20\n",
            "11/11 [==============================] - 0s 9ms/step - loss: 5.7605 - accuracy: 0.6357 - val_loss: 36.9368 - val_accuracy: 0.3400\n",
            "Epoch 7/20\n",
            "11/11 [==============================] - 0s 10ms/step - loss: 26.4501 - accuracy: 0.6437 - val_loss: 23.8512 - val_accuracy: 0.3400\n",
            "Epoch 8/20\n",
            "11/11 [==============================] - 0s 9ms/step - loss: 32.1987 - accuracy: 0.6128 - val_loss: 2.6879 - val_accuracy: 0.7800\n",
            "Epoch 9/20\n",
            "11/11 [==============================] - 0s 9ms/step - loss: 14.7650 - accuracy: 0.7144 - val_loss: 3.2139 - val_accuracy: 0.7800\n",
            "Epoch 10/20\n",
            "11/11 [==============================] - 0s 11ms/step - loss: 8.1806 - accuracy: 0.7141 - val_loss: 10.5878 - val_accuracy: 0.4400\n",
            "Epoch 11/20\n",
            "11/11 [==============================] - 0s 10ms/step - loss: 2.8698 - accuracy: 0.7377 - val_loss: 2.7561 - val_accuracy: 0.8000\n",
            "Epoch 12/20\n",
            "11/11 [==============================] - 0s 10ms/step - loss: 1.5957 - accuracy: 0.8174 - val_loss: 8.0333 - val_accuracy: 0.4800\n",
            "Epoch 13/20\n",
            "11/11 [==============================] - 0s 9ms/step - loss: 2.4761 - accuracy: 0.7674 - val_loss: 4.8683 - val_accuracy: 0.7800\n",
            "Epoch 14/20\n",
            "11/11 [==============================] - 0s 8ms/step - loss: 5.0178 - accuracy: 0.6577 - val_loss: 10.9216 - val_accuracy: 0.3800\n",
            "Epoch 15/20\n",
            "11/11 [==============================] - 0s 9ms/step - loss: 2.6909 - accuracy: 0.7510 - val_loss: 3.1950 - val_accuracy: 0.8000\n",
            "Epoch 16/20\n",
            "11/11 [==============================] - 0s 9ms/step - loss: 1.0894 - accuracy: 0.8311 - val_loss: 6.4823 - val_accuracy: 0.4400\n",
            "Epoch 17/20\n",
            "11/11 [==============================] - 0s 9ms/step - loss: 1.6376 - accuracy: 0.7856 - val_loss: 6.1195 - val_accuracy: 0.4400\n",
            "Epoch 18/20\n",
            "11/11 [==============================] - 0s 9ms/step - loss: 1.2614 - accuracy: 0.8437 - val_loss: 3.1629 - val_accuracy: 0.7800\n",
            "Epoch 19/20\n",
            "11/11 [==============================] - 0s 10ms/step - loss: 1.0829 - accuracy: 0.8530 - val_loss: 3.0761 - val_accuracy: 0.7600\n",
            "Epoch 20/20\n",
            "11/11 [==============================] - 0s 9ms/step - loss: 0.5501 - accuracy: 0.8846 - val_loss: 3.6678 - val_accuracy: 0.6600\n"
          ],
          "name": "stdout"
        },
        {
          "output_type": "execute_result",
          "data": {
            "text/plain": [
              "<tensorflow.python.keras.callbacks.History at 0x7f15f0f68b90>"
            ]
          },
          "metadata": {
            "tags": []
          },
          "execution_count": 8
        }
      ]
    },
    {
      "cell_type": "markdown",
      "metadata": {
        "id": "lOEXgNWXXKil"
      },
      "source": [
        "# Convolutional Neural Network"
      ]
    },
    {
      "cell_type": "code",
      "metadata": {
        "colab": {
          "base_uri": "https://localhost:8080/"
        },
        "id": "mm_tUEVOXKxd",
        "outputId": "eb588b3c-434e-4c0e-a2a0-a49ecf772f97"
      },
      "source": [
        "# Convolutional Neural Network\r\n",
        "\r\n",
        "model3 = Sequential()\r\n",
        "\r\n",
        "# Layer 1\r\n",
        "\r\n",
        "model3.add(Conv2D(1, kernel_size = (3, 3), activation = 'relu', input_shape = (X_train.shape[1:])))\r\n",
        "model3.add(MaxPooling2D(pool_size = (2,2), strides = (2, 2)))\r\n",
        "model3.add(Dropout(0.5))\r\n",
        "\r\n",
        "# Layer 2\r\n",
        "\r\n",
        "model3.add(Conv2D(2*1, kernel_size = (3, 3), activation = 'relu'))\r\n",
        "model3.add(MaxPooling2D(pool_size = (2,2), strides = (2, 2)))\r\n",
        "model3.add(Flatten())\r\n",
        "\r\n",
        "# Final Layer\r\n",
        "\r\n",
        "model3.add(Dense(2*2*2, activation = 'relu'))\r\n",
        "model3.add(Dropout(0.2))\r\n",
        "model3.add(Dense(2, activation = 'softmax'))\r\n",
        "\r\n",
        "#model.summary()\r\n",
        "\r\n",
        "model3.compile(loss = categorical_crossentropy, optimizer = Adam(), metrics = ['accuracy'])\r\n",
        "\r\n",
        "model3.fit(X_train, Y_train, batch_size = batch_size, epochs = epochs,\r\n",
        "          verbose = 1, validation_data = (X_test, Y_test), shuffle = True)"
      ],
      "execution_count": 9,
      "outputs": [
        {
          "output_type": "stream",
          "text": [
            "Epoch 1/20\n",
            "11/11 [==============================] - 1s 55ms/step - loss: 3.8913 - accuracy: 0.5879 - val_loss: 1.7388 - val_accuracy: 0.4000\n",
            "Epoch 2/20\n",
            "11/11 [==============================] - 0s 37ms/step - loss: 1.5612 - accuracy: 0.5815 - val_loss: 1.3217 - val_accuracy: 0.4000\n",
            "Epoch 3/20\n",
            "11/11 [==============================] - 0s 38ms/step - loss: 1.3939 - accuracy: 0.6424 - val_loss: 1.1407 - val_accuracy: 0.4200\n",
            "Epoch 4/20\n",
            "11/11 [==============================] - 0s 37ms/step - loss: 1.2960 - accuracy: 0.6228 - val_loss: 1.0605 - val_accuracy: 0.3800\n",
            "Epoch 5/20\n",
            "11/11 [==============================] - 0s 38ms/step - loss: 0.8485 - accuracy: 0.6405 - val_loss: 1.0119 - val_accuracy: 0.3800\n",
            "Epoch 6/20\n",
            "11/11 [==============================] - 0s 37ms/step - loss: 0.7535 - accuracy: 0.6802 - val_loss: 0.9927 - val_accuracy: 0.3600\n",
            "Epoch 7/20\n",
            "11/11 [==============================] - 0s 37ms/step - loss: 0.7863 - accuracy: 0.6569 - val_loss: 0.9468 - val_accuracy: 0.4000\n",
            "Epoch 8/20\n",
            "11/11 [==============================] - 0s 38ms/step - loss: 0.7159 - accuracy: 0.6852 - val_loss: 0.9149 - val_accuracy: 0.3800\n",
            "Epoch 9/20\n",
            "11/11 [==============================] - 0s 37ms/step - loss: 0.6953 - accuracy: 0.6537 - val_loss: 0.9101 - val_accuracy: 0.3800\n",
            "Epoch 10/20\n",
            "11/11 [==============================] - 0s 38ms/step - loss: 0.6650 - accuracy: 0.6850 - val_loss: 0.9149 - val_accuracy: 0.3800\n",
            "Epoch 11/20\n",
            "11/11 [==============================] - 0s 37ms/step - loss: 0.6877 - accuracy: 0.6884 - val_loss: 0.9176 - val_accuracy: 0.3800\n",
            "Epoch 12/20\n",
            "11/11 [==============================] - 0s 36ms/step - loss: 0.7313 - accuracy: 0.6296 - val_loss: 0.9322 - val_accuracy: 0.4000\n",
            "Epoch 13/20\n",
            "11/11 [==============================] - 0s 37ms/step - loss: 0.6303 - accuracy: 0.6831 - val_loss: 0.9327 - val_accuracy: 0.4000\n",
            "Epoch 14/20\n",
            "11/11 [==============================] - 0s 38ms/step - loss: 0.6249 - accuracy: 0.7039 - val_loss: 0.9343 - val_accuracy: 0.4000\n",
            "Epoch 15/20\n",
            "11/11 [==============================] - 0s 38ms/step - loss: 0.6277 - accuracy: 0.6800 - val_loss: 0.9240 - val_accuracy: 0.3800\n",
            "Epoch 16/20\n",
            "11/11 [==============================] - 0s 36ms/step - loss: 0.6207 - accuracy: 0.6987 - val_loss: 0.9023 - val_accuracy: 0.4200\n",
            "Epoch 17/20\n",
            "11/11 [==============================] - 0s 37ms/step - loss: 0.5980 - accuracy: 0.6775 - val_loss: 0.9061 - val_accuracy: 0.4000\n",
            "Epoch 18/20\n",
            "11/11 [==============================] - 0s 37ms/step - loss: 0.6484 - accuracy: 0.6669 - val_loss: 0.8969 - val_accuracy: 0.4000\n",
            "Epoch 19/20\n",
            "11/11 [==============================] - 0s 37ms/step - loss: 0.5817 - accuracy: 0.6969 - val_loss: 0.9114 - val_accuracy: 0.4000\n",
            "Epoch 20/20\n",
            "11/11 [==============================] - 0s 38ms/step - loss: 0.5927 - accuracy: 0.6478 - val_loss: 0.9136 - val_accuracy: 0.4000\n"
          ],
          "name": "stdout"
        },
        {
          "output_type": "execute_result",
          "data": {
            "text/plain": [
              "<tensorflow.python.keras.callbacks.History at 0x7f15eed7c710>"
            ]
          },
          "metadata": {
            "tags": []
          },
          "execution_count": 9
        }
      ]
    },
    {
      "cell_type": "markdown",
      "metadata": {
        "id": "F4AROQ4qU87S"
      },
      "source": [
        "# Summary"
      ]
    },
    {
      "cell_type": "code",
      "metadata": {
        "colab": {
          "base_uri": "https://localhost:8080/"
        },
        "id": "ik-qsfbgEApV",
        "outputId": "2a5f3608-0875-44ba-a3da-2c3732fe31f4"
      },
      "source": [
        "model1.summary()"
      ],
      "execution_count": 10,
      "outputs": [
        {
          "output_type": "stream",
          "text": [
            "Model: \"sequential\"\n",
            "_________________________________________________________________\n",
            "Layer (type)                 Output Shape              Param #   \n",
            "=================================================================\n",
            "flatten (Flatten)            (None, 12288)             0         \n",
            "_________________________________________________________________\n",
            "dense (Dense)                (None, 30)                368670    \n",
            "_________________________________________________________________\n",
            "dense_1 (Dense)              (None, 2)                 62        \n",
            "=================================================================\n",
            "Total params: 368,732\n",
            "Trainable params: 368,732\n",
            "Non-trainable params: 0\n",
            "_________________________________________________________________\n"
          ],
          "name": "stdout"
        }
      ]
    },
    {
      "cell_type": "code",
      "metadata": {
        "colab": {
          "base_uri": "https://localhost:8080/"
        },
        "id": "z3bUbbfMVBiA",
        "outputId": "5f2d73b9-d64c-4f69-ad14-253b0d12e134"
      },
      "source": [
        "model2.summary()"
      ],
      "execution_count": 11,
      "outputs": [
        {
          "output_type": "stream",
          "text": [
            "Model: \"sequential_1\"\n",
            "_________________________________________________________________\n",
            "Layer (type)                 Output Shape              Param #   \n",
            "=================================================================\n",
            "flatten_1 (Flatten)          (None, 12288)             0         \n",
            "_________________________________________________________________\n",
            "dense_2 (Dense)              (None, 30)                368670    \n",
            "_________________________________________________________________\n",
            "dense_3 (Dense)              (None, 15)                465       \n",
            "_________________________________________________________________\n",
            "dense_4 (Dense)              (None, 2)                 32        \n",
            "=================================================================\n",
            "Total params: 369,167\n",
            "Trainable params: 369,167\n",
            "Non-trainable params: 0\n",
            "_________________________________________________________________\n"
          ],
          "name": "stdout"
        }
      ]
    },
    {
      "cell_type": "code",
      "metadata": {
        "colab": {
          "base_uri": "https://localhost:8080/"
        },
        "id": "QjXttT67WeMo",
        "outputId": "30d6379f-f6ff-455e-e85d-2457a4050bc3"
      },
      "source": [
        "model3.summary()"
      ],
      "execution_count": 12,
      "outputs": [
        {
          "output_type": "stream",
          "text": [
            "Model: \"sequential_2\"\n",
            "_________________________________________________________________\n",
            "Layer (type)                 Output Shape              Param #   \n",
            "=================================================================\n",
            "conv2d (Conv2D)              (None, 62, 62, 1)         28        \n",
            "_________________________________________________________________\n",
            "max_pooling2d (MaxPooling2D) (None, 31, 31, 1)         0         \n",
            "_________________________________________________________________\n",
            "dropout (Dropout)            (None, 31, 31, 1)         0         \n",
            "_________________________________________________________________\n",
            "conv2d_1 (Conv2D)            (None, 29, 29, 2)         20        \n",
            "_________________________________________________________________\n",
            "max_pooling2d_1 (MaxPooling2 (None, 14, 14, 2)         0         \n",
            "_________________________________________________________________\n",
            "flatten_2 (Flatten)          (None, 392)               0         \n",
            "_________________________________________________________________\n",
            "dense_5 (Dense)              (None, 8)                 3144      \n",
            "_________________________________________________________________\n",
            "dropout_1 (Dropout)          (None, 8)                 0         \n",
            "_________________________________________________________________\n",
            "dense_6 (Dense)              (None, 2)                 18        \n",
            "=================================================================\n",
            "Total params: 3,210\n",
            "Trainable params: 3,210\n",
            "Non-trainable params: 0\n",
            "_________________________________________________________________\n"
          ],
          "name": "stdout"
        }
      ]
    },
    {
      "cell_type": "code",
      "metadata": {
        "id": "PY3c3dsjWy05"
      },
      "source": [
        ""
      ],
      "execution_count": 12,
      "outputs": []
    }
  ]
}