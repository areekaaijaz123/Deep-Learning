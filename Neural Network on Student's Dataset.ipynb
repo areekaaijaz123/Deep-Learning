{
  "nbformat": 4,
  "nbformat_minor": 0,
  "metadata": {
    "colab": {
      "name": "K173913 - Assignment 2 (Part a)",
      "provenance": []
    },
    "kernelspec": {
      "name": "python3",
      "display_name": "Python 3"
    }
  },
  "cells": [
    {
      "cell_type": "code",
      "metadata": {
        "id": "-JfTsQTlfki9"
      },
      "source": [
        "import numpy as np\r\n",
        "import pandas as pd\r\n",
        "\r\n",
        "import tensorflow as tf\r\n",
        "\r\n",
        "from keras.models import Sequential\r\n",
        "from keras.layers import Dense\r\n",
        "from keras.losses import categorical_crossentropy\r\n",
        "from keras.optimizers import Adam\r\n",
        "from keras.utils import np_utils\r\n",
        "\r\n",
        "from sklearn.model_selection import train_test_split"
      ],
      "execution_count": 1,
      "outputs": []
    },
    {
      "cell_type": "code",
      "metadata": {
        "colab": {
          "base_uri": "https://localhost:8080/",
          "height": 204
        },
        "id": "ufPE2MNIjFH4",
        "outputId": "effcebdf-eae0-4a22-c591-252f3a268fe4"
      },
      "source": [
        "data = pd.read_csv(\"/content/drive/MyDrive/Deep Learning/student_data.csv\")\r\n",
        "data.head()"
      ],
      "execution_count": 2,
      "outputs": [
        {
          "output_type": "execute_result",
          "data": {
            "text/html": [
              "<div>\n",
              "<style scoped>\n",
              "    .dataframe tbody tr th:only-of-type {\n",
              "        vertical-align: middle;\n",
              "    }\n",
              "\n",
              "    .dataframe tbody tr th {\n",
              "        vertical-align: top;\n",
              "    }\n",
              "\n",
              "    .dataframe thead th {\n",
              "        text-align: right;\n",
              "    }\n",
              "</style>\n",
              "<table border=\"1\" class=\"dataframe\">\n",
              "  <thead>\n",
              "    <tr style=\"text-align: right;\">\n",
              "      <th></th>\n",
              "      <th>admit</th>\n",
              "      <th>gre</th>\n",
              "      <th>gpa</th>\n",
              "      <th>rank</th>\n",
              "    </tr>\n",
              "  </thead>\n",
              "  <tbody>\n",
              "    <tr>\n",
              "      <th>0</th>\n",
              "      <td>0</td>\n",
              "      <td>380</td>\n",
              "      <td>3.61</td>\n",
              "      <td>3</td>\n",
              "    </tr>\n",
              "    <tr>\n",
              "      <th>1</th>\n",
              "      <td>1</td>\n",
              "      <td>660</td>\n",
              "      <td>3.67</td>\n",
              "      <td>3</td>\n",
              "    </tr>\n",
              "    <tr>\n",
              "      <th>2</th>\n",
              "      <td>1</td>\n",
              "      <td>800</td>\n",
              "      <td>4.00</td>\n",
              "      <td>1</td>\n",
              "    </tr>\n",
              "    <tr>\n",
              "      <th>3</th>\n",
              "      <td>1</td>\n",
              "      <td>640</td>\n",
              "      <td>3.19</td>\n",
              "      <td>4</td>\n",
              "    </tr>\n",
              "    <tr>\n",
              "      <th>4</th>\n",
              "      <td>0</td>\n",
              "      <td>520</td>\n",
              "      <td>2.93</td>\n",
              "      <td>4</td>\n",
              "    </tr>\n",
              "  </tbody>\n",
              "</table>\n",
              "</div>"
            ],
            "text/plain": [
              "   admit  gre   gpa  rank\n",
              "0      0  380  3.61     3\n",
              "1      1  660  3.67     3\n",
              "2      1  800  4.00     1\n",
              "3      1  640  3.19     4\n",
              "4      0  520  2.93     4"
            ]
          },
          "metadata": {
            "tags": []
          },
          "execution_count": 2
        }
      ]
    },
    {
      "cell_type": "code",
      "metadata": {
        "id": "Ka5cLsf-aFXc"
      },
      "source": [
        "X = pd.DataFrame(np.c_[data['gre'], data['gpa'], data['rank']], columns = ['gre', 'gpa', 'rank'])\r\n",
        "Y = data['admit']\r\n",
        "\r\n",
        "# Splitting dataset\r\n",
        "X_train, X_test, Y_train, Y_test = train_test_split(X, Y, test_size=0.1, random_state=0)\r\n",
        "\r\n",
        "# Converting to categorical \r\n",
        "Y_train = np_utils.to_categorical(Y_train)\r\n",
        "Y_test = np_utils.to_categorical(Y_test)"
      ],
      "execution_count": 3,
      "outputs": []
    },
    {
      "cell_type": "code",
      "metadata": {
        "colab": {
          "base_uri": "https://localhost:8080/"
        },
        "id": "cd_spfE5csNe",
        "outputId": "378110a9-917d-4245-c83c-3594fcd8af1a"
      },
      "source": [
        "model = Sequential()\r\n",
        "\r\n",
        "model.add(Dense(20, activation='relu', input_shape=(X_train.shape[1], )))\r\n",
        "model.add(Dense(10, activation = 'relu'))\r\n",
        "model.add(Dense(8, activation = 'relu'))\r\n",
        "model.add(Dense(2, activation = 'softmax'))\r\n",
        "\r\n",
        "model.compile(optimizer='adam', loss='categorical_crossentropy', metrics=['accuracy'])\r\n",
        "\r\n",
        "model.fit(X_train, Y_train, validation_data = (X_test, Y_test), epochs = 50, verbose = 1, batch_size=20)"
      ],
      "execution_count": 4,
      "outputs": [
        {
          "output_type": "stream",
          "text": [
            "Epoch 1/50\n",
            "18/18 [==============================] - 1s 28ms/step - loss: 3.5439 - accuracy: 0.6991 - val_loss: 0.7592 - val_accuracy: 0.6500\n",
            "Epoch 2/50\n",
            "18/18 [==============================] - 0s 3ms/step - loss: 0.7198 - accuracy: 0.5468 - val_loss: 0.8933 - val_accuracy: 0.6500\n",
            "Epoch 3/50\n",
            "18/18 [==============================] - 0s 4ms/step - loss: 0.7086 - accuracy: 0.6859 - val_loss: 0.6730 - val_accuracy: 0.6500\n",
            "Epoch 4/50\n",
            "18/18 [==============================] - 0s 3ms/step - loss: 0.6373 - accuracy: 0.6885 - val_loss: 0.6727 - val_accuracy: 0.6500\n",
            "Epoch 5/50\n",
            "18/18 [==============================] - 0s 4ms/step - loss: 0.6493 - accuracy: 0.6625 - val_loss: 0.7172 - val_accuracy: 0.6500\n",
            "Epoch 6/50\n",
            "18/18 [==============================] - 0s 4ms/step - loss: 0.6673 - accuracy: 0.6745 - val_loss: 0.7179 - val_accuracy: 0.6500\n",
            "Epoch 7/50\n",
            "18/18 [==============================] - 0s 4ms/step - loss: 0.6399 - accuracy: 0.7037 - val_loss: 0.6741 - val_accuracy: 0.6500\n",
            "Epoch 8/50\n",
            "18/18 [==============================] - 0s 3ms/step - loss: 0.6522 - accuracy: 0.6589 - val_loss: 0.6682 - val_accuracy: 0.6500\n",
            "Epoch 9/50\n",
            "18/18 [==============================] - 0s 3ms/step - loss: 0.6513 - accuracy: 0.6840 - val_loss: 0.6670 - val_accuracy: 0.6500\n",
            "Epoch 10/50\n",
            "18/18 [==============================] - 0s 3ms/step - loss: 0.6320 - accuracy: 0.6945 - val_loss: 0.6660 - val_accuracy: 0.6500\n",
            "Epoch 11/50\n",
            "18/18 [==============================] - 0s 4ms/step - loss: 0.6490 - accuracy: 0.6805 - val_loss: 0.6946 - val_accuracy: 0.6500\n",
            "Epoch 12/50\n",
            "18/18 [==============================] - 0s 4ms/step - loss: 0.6432 - accuracy: 0.6774 - val_loss: 0.6808 - val_accuracy: 0.6500\n",
            "Epoch 13/50\n",
            "18/18 [==============================] - 0s 4ms/step - loss: 0.6416 - accuracy: 0.6829 - val_loss: 0.6654 - val_accuracy: 0.6500\n",
            "Epoch 14/50\n",
            "18/18 [==============================] - 0s 3ms/step - loss: 0.6487 - accuracy: 0.6680 - val_loss: 0.6926 - val_accuracy: 0.6500\n",
            "Epoch 15/50\n",
            "18/18 [==============================] - 0s 3ms/step - loss: 0.6056 - accuracy: 0.7161 - val_loss: 0.6638 - val_accuracy: 0.6500\n",
            "Epoch 16/50\n",
            "18/18 [==============================] - 0s 4ms/step - loss: 0.6531 - accuracy: 0.6563 - val_loss: 0.6976 - val_accuracy: 0.6500\n",
            "Epoch 17/50\n",
            "18/18 [==============================] - 0s 3ms/step - loss: 0.6172 - accuracy: 0.7170 - val_loss: 0.6752 - val_accuracy: 0.6500\n",
            "Epoch 18/50\n",
            "18/18 [==============================] - 0s 4ms/step - loss: 0.6380 - accuracy: 0.6902 - val_loss: 0.7163 - val_accuracy: 0.6500\n",
            "Epoch 19/50\n",
            "18/18 [==============================] - 0s 3ms/step - loss: 0.6352 - accuracy: 0.6949 - val_loss: 0.6631 - val_accuracy: 0.6500\n",
            "Epoch 20/50\n",
            "18/18 [==============================] - 0s 3ms/step - loss: 0.6345 - accuracy: 0.6806 - val_loss: 0.7054 - val_accuracy: 0.6500\n",
            "Epoch 21/50\n",
            "18/18 [==============================] - 0s 3ms/step - loss: 0.6283 - accuracy: 0.6952 - val_loss: 0.6635 - val_accuracy: 0.6500\n",
            "Epoch 22/50\n",
            "18/18 [==============================] - 0s 3ms/step - loss: 0.6457 - accuracy: 0.6723 - val_loss: 0.7028 - val_accuracy: 0.6500\n",
            "Epoch 23/50\n",
            "18/18 [==============================] - 0s 3ms/step - loss: 0.6440 - accuracy: 0.6844 - val_loss: 0.6640 - val_accuracy: 0.6500\n",
            "Epoch 24/50\n",
            "18/18 [==============================] - 0s 3ms/step - loss: 0.6350 - accuracy: 0.6737 - val_loss: 0.6650 - val_accuracy: 0.6500\n",
            "Epoch 25/50\n",
            "18/18 [==============================] - 0s 3ms/step - loss: 0.6478 - accuracy: 0.6700 - val_loss: 0.7034 - val_accuracy: 0.6500\n",
            "Epoch 26/50\n",
            "18/18 [==============================] - 0s 3ms/step - loss: 0.6111 - accuracy: 0.7050 - val_loss: 0.6647 - val_accuracy: 0.6500\n",
            "Epoch 27/50\n",
            "18/18 [==============================] - 0s 3ms/step - loss: 0.6644 - accuracy: 0.6371 - val_loss: 0.7182 - val_accuracy: 0.6500\n",
            "Epoch 28/50\n",
            "18/18 [==============================] - 0s 3ms/step - loss: 0.6573 - accuracy: 0.6817 - val_loss: 0.7130 - val_accuracy: 0.6500\n",
            "Epoch 29/50\n",
            "18/18 [==============================] - 0s 3ms/step - loss: 0.6268 - accuracy: 0.6967 - val_loss: 0.6770 - val_accuracy: 0.6500\n",
            "Epoch 30/50\n",
            "18/18 [==============================] - 0s 3ms/step - loss: 0.6880 - accuracy: 0.6298 - val_loss: 0.7166 - val_accuracy: 0.6500\n",
            "Epoch 31/50\n",
            "18/18 [==============================] - 0s 3ms/step - loss: 0.6330 - accuracy: 0.6791 - val_loss: 0.6705 - val_accuracy: 0.6500\n",
            "Epoch 32/50\n",
            "18/18 [==============================] - 0s 3ms/step - loss: 0.6398 - accuracy: 0.6790 - val_loss: 0.7091 - val_accuracy: 0.6500\n",
            "Epoch 33/50\n",
            "18/18 [==============================] - 0s 3ms/step - loss: 0.6626 - accuracy: 0.6713 - val_loss: 0.7290 - val_accuracy: 0.6500\n",
            "Epoch 34/50\n",
            "18/18 [==============================] - 0s 5ms/step - loss: 0.6089 - accuracy: 0.7111 - val_loss: 0.6561 - val_accuracy: 0.6500\n",
            "Epoch 35/50\n",
            "18/18 [==============================] - 0s 3ms/step - loss: 0.6506 - accuracy: 0.6584 - val_loss: 0.6960 - val_accuracy: 0.6500\n",
            "Epoch 36/50\n",
            "18/18 [==============================] - 0s 3ms/step - loss: 0.6447 - accuracy: 0.6739 - val_loss: 0.7185 - val_accuracy: 0.6500\n",
            "Epoch 37/50\n",
            "18/18 [==============================] - 0s 3ms/step - loss: 0.6380 - accuracy: 0.6945 - val_loss: 0.6772 - val_accuracy: 0.6500\n",
            "Epoch 38/50\n",
            "18/18 [==============================] - 0s 3ms/step - loss: 0.5998 - accuracy: 0.7182 - val_loss: 0.6552 - val_accuracy: 0.6500\n",
            "Epoch 39/50\n",
            "18/18 [==============================] - 0s 3ms/step - loss: 0.6592 - accuracy: 0.6361 - val_loss: 0.6918 - val_accuracy: 0.6500\n",
            "Epoch 40/50\n",
            "18/18 [==============================] - 0s 3ms/step - loss: 0.6559 - accuracy: 0.6649 - val_loss: 0.6738 - val_accuracy: 0.6500\n",
            "Epoch 41/50\n",
            "18/18 [==============================] - 0s 3ms/step - loss: 0.6536 - accuracy: 0.6566 - val_loss: 0.7403 - val_accuracy: 0.6500\n",
            "Epoch 42/50\n",
            "18/18 [==============================] - 0s 4ms/step - loss: 0.6229 - accuracy: 0.7147 - val_loss: 0.6579 - val_accuracy: 0.6500\n",
            "Epoch 43/50\n",
            "18/18 [==============================] - 0s 3ms/step - loss: 0.6285 - accuracy: 0.6903 - val_loss: 0.6546 - val_accuracy: 0.6500\n",
            "Epoch 44/50\n",
            "18/18 [==============================] - 0s 3ms/step - loss: 0.6225 - accuracy: 0.6944 - val_loss: 0.6829 - val_accuracy: 0.6500\n",
            "Epoch 45/50\n",
            "18/18 [==============================] - 0s 4ms/step - loss: 0.6378 - accuracy: 0.6819 - val_loss: 0.7117 - val_accuracy: 0.6500\n",
            "Epoch 46/50\n",
            "18/18 [==============================] - 0s 4ms/step - loss: 0.6148 - accuracy: 0.7077 - val_loss: 0.6525 - val_accuracy: 0.6500\n",
            "Epoch 47/50\n",
            "18/18 [==============================] - 0s 4ms/step - loss: 0.6305 - accuracy: 0.7062 - val_loss: 0.6520 - val_accuracy: 0.6500\n",
            "Epoch 48/50\n",
            "18/18 [==============================] - 0s 4ms/step - loss: 0.6109 - accuracy: 0.7150 - val_loss: 0.6571 - val_accuracy: 0.6500\n",
            "Epoch 49/50\n",
            "18/18 [==============================] - 0s 4ms/step - loss: 0.6395 - accuracy: 0.6851 - val_loss: 0.6516 - val_accuracy: 0.6500\n",
            "Epoch 50/50\n",
            "18/18 [==============================] - 0s 4ms/step - loss: 0.6232 - accuracy: 0.6924 - val_loss: 0.6549 - val_accuracy: 0.6500\n"
          ],
          "name": "stdout"
        },
        {
          "output_type": "execute_result",
          "data": {
            "text/plain": [
              "<tensorflow.python.keras.callbacks.History at 0x7f96d3ff0dd0>"
            ]
          },
          "metadata": {
            "tags": []
          },
          "execution_count": 4
        }
      ]
    },
    {
      "cell_type": "code",
      "metadata": {
        "id": "j_s_QYqYd5Bi",
        "colab": {
          "base_uri": "https://localhost:8080/"
        },
        "outputId": "aacc090a-b3de-4674-fe04-ac14f33828f7"
      },
      "source": [
        "predicted_labels = model.predict(X_test)\r\n",
        "test_loss, test_acc = model.evaluate(X_test, Y_test)"
      ],
      "execution_count": 5,
      "outputs": [
        {
          "output_type": "stream",
          "text": [
            "2/2 [==============================] - 0s 7ms/step - loss: 0.6549 - accuracy: 0.6500\n"
          ],
          "name": "stdout"
        }
      ]
    },
    {
      "cell_type": "code",
      "metadata": {
        "colab": {
          "base_uri": "https://localhost:8080/"
        },
        "id": "rcuqyYnb9xRp",
        "outputId": "6ef593f8-beda-47ee-97d3-3f0d0823242f"
      },
      "source": [
        "model.summary()"
      ],
      "execution_count": 6,
      "outputs": [
        {
          "output_type": "stream",
          "text": [
            "Model: \"sequential\"\n",
            "_________________________________________________________________\n",
            "Layer (type)                 Output Shape              Param #   \n",
            "=================================================================\n",
            "dense (Dense)                (None, 20)                80        \n",
            "_________________________________________________________________\n",
            "dense_1 (Dense)              (None, 10)                210       \n",
            "_________________________________________________________________\n",
            "dense_2 (Dense)              (None, 8)                 88        \n",
            "_________________________________________________________________\n",
            "dense_3 (Dense)              (None, 2)                 18        \n",
            "=================================================================\n",
            "Total params: 396\n",
            "Trainable params: 396\n",
            "Non-trainable params: 0\n",
            "_________________________________________________________________\n"
          ],
          "name": "stdout"
        }
      ]
    },
    {
      "cell_type": "code",
      "metadata": {
        "id": "D5Nf8907L03C"
      },
      "source": [
        ""
      ],
      "execution_count": null,
      "outputs": []
    }
  ]
}