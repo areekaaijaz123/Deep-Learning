{
  "nbformat": 4,
  "nbformat_minor": 0,
  "metadata": {
    "colab": {
      "name": "Lab 1 - 15 Functions.ipynb",
      "provenance": []
    },
    "kernelspec": {
      "name": "python3",
      "display_name": "Python 3"
    }
  },
  "cells": [
    {
      "cell_type": "code",
      "metadata": {
        "id": "6BWN0hEgVAyL"
      },
      "source": [
        "import matplotlib.pyplot as plt\r\n",
        "import numpy as np"
      ],
      "execution_count": 1,
      "outputs": []
    },
    {
      "cell_type": "markdown",
      "metadata": {
        "id": "JUuRUW4tVN6N"
      },
      "source": [
        "# 1. Sigmoid "
      ]
    },
    {
      "cell_type": "code",
      "metadata": {
        "id": "6Gafbfh3VOeu"
      },
      "source": [
        "def sigmoid(x):\r\n",
        "  return (1 / (1 + np.exp(-x)))"
      ],
      "execution_count": 2,
      "outputs": []
    },
    {
      "cell_type": "code",
      "metadata": {
        "colab": {
          "base_uri": "https://localhost:8080/",
          "height": 296
        },
        "id": "emA4bPPTVQAY",
        "outputId": "62ec254f-c154-49ea-a476-617da5b9cf7b"
      },
      "source": [
        "x = np.arange(-10, 10, 0.0001)\r\n",
        "y = [sigmoid(n) for n in x]\r\n",
        "\r\n",
        "plt.plot(x, y)\r\n",
        "plt.xlabel(\"Logit - L\")\r\n",
        "plt.ylabel(\"Probability\")"
      ],
      "execution_count": 3,
      "outputs": [
        {
          "output_type": "execute_result",
          "data": {
            "text/plain": [
              "Text(0, 0.5, 'Probability')"
            ]
          },
          "metadata": {
            "tags": []
          },
          "execution_count": 3
        },
        {
          "output_type": "display_data",
          "data": {
            "image/png": "[encoded data removed]",
            "text/plain": [
              "<Figure size 432x288 with 1 Axes>"
            ]
          },
          "metadata": {
            "tags": [],
            "needs_background": "light"
          }
        }
      ]
    },
    {
      "cell_type": "markdown",
      "metadata": {
        "id": "RESQ6lPiVXUV"
      },
      "source": [
        "# 2. Image to Vector"
      ]
    },
    {
      "cell_type": "code",
      "metadata": {
        "id": "GKikqiE3VSXZ"
      },
      "source": [
        "def image2vector(img):\r\n",
        "  return (img.flatten('F'))"
      ],
      "execution_count": 4,
      "outputs": []
    },
    {
      "cell_type": "code",
      "metadata": {
        "colab": {
          "base_uri": "https://localhost:8080/"
        },
        "id": "FsaV1d8xVaD5",
        "outputId": "43e3f54c-e223-467a-dff1-afdb0a283f7c"
      },
      "source": [
        "img = np.array([[[ 0.4826139,  0.2940381], [ 0.9014982,  0.5285647], [ 0.4215251,  0.4017551]],    \r\n",
        "                [[ 0.6814219,  0.9377647], [ 0.8504703,  0.5251845], [ 0.1991397,  0.7417313]],\r\n",
        "                [[ 0.6659855,  0.0553165], [ 0.1020313,  0.4978937], [ 0.3414279,  0.9430077]]])\r\n",
        "\r\n",
        "vector = image2vector(img)\r\n",
        "\r\n",
        "print(f\"Actual image dimensions {img.shape}\")\r\n",
        "print(f'Image: \\n{img} \\n')\r\n",
        "\r\n",
        "print(f'Vector dimension {vector.shape}')\r\n",
        "print(f'Vector: \\n{vector}')"
      ],
      "execution_count": 5,
      "outputs": [
        {
          "output_type": "stream",
          "text": [
            "Actual image dimensions (3, 3, 2)\n",
            "Image: \n",
            "[[[0.4826139 0.2940381]\n",
            "  [0.9014982 0.5285647]\n",
            "  [0.4215251 0.4017551]]\n",
            "\n",
            " [[0.6814219 0.9377647]\n",
            "  [0.8504703 0.5251845]\n",
            "  [0.1991397 0.7417313]]\n",
            "\n",
            " [[0.6659855 0.0553165]\n",
            "  [0.1020313 0.4978937]\n",
            "  [0.3414279 0.9430077]]] \n",
            "\n",
            "Vector dimension (18,)\n",
            "Vector: \n",
            "[0.4826139 0.6814219 0.6659855 0.9014982 0.8504703 0.1020313 0.4215251\n",
            " 0.1991397 0.3414279 0.2940381 0.9377647 0.0553165 0.5285647 0.5251845\n",
            " 0.4978937 0.4017551 0.7417313 0.9430077]\n"
          ],
          "name": "stdout"
        }
      ]
    },
    {
      "cell_type": "markdown",
      "metadata": {
        "id": "0c5sgyv7VcTB"
      },
      "source": [
        "# 3. Tanh"
      ]
    },
    {
      "cell_type": "code",
      "metadata": {
        "id": "B8A1FCL-Vfya"
      },
      "source": [
        "def tanh(x):\r\n",
        "  return (np.exp(x) - np.exp(-x)) / (np.exp(x) + np.exp(-x))"
      ],
      "execution_count": 6,
      "outputs": []
    },
    {
      "cell_type": "code",
      "metadata": {
        "colab": {
          "base_uri": "https://localhost:8080/",
          "height": 296
        },
        "id": "AKPXCp9PVgk6",
        "outputId": "c3537671-f48f-4349-a378-49f5ad4c7838"
      },
      "source": [
        "x = np.arange(-5, 5)\r\n",
        "y = [tanh(n) for n in x]\r\n",
        "\r\n",
        "plt.yticks(np.arange(-1, 1, 1))\r\n",
        "plt.plot(x, y)\r\n",
        "plt.xlabel(\"X\")\r\n",
        "plt.ylabel(\"Tanh\")"
      ],
      "execution_count": 7,
      "outputs": [
        {
          "output_type": "execute_result",
          "data": {
            "text/plain": [
              "Text(0, 0.5, 'Tanh')"
            ]
          },
          "metadata": {
            "tags": []
          },
          "execution_count": 7
        },
        {
          "output_type": "display_data",
          "data": {
            "image/png": "[encoded data removed]",
            "text/plain": [
              "<Figure size 432x288 with 1 Axes>"
            ]
          },
          "metadata": {
            "tags": [],
            "needs_background": "light"
          }
        }
      ]
    },
    {
      "cell_type": "markdown",
      "metadata": {
        "id": "hILy5opKViZs"
      },
      "source": [
        "# 4. Signum"
      ]
    },
    {
      "cell_type": "code",
      "metadata": {
        "id": "64C1kTtdVliJ"
      },
      "source": [
        "def sign(x):\r\n",
        "  if x > 0: val = 1\r\n",
        "  elif x < 0: val = -1\r\n",
        "  else: val = 0\r\n",
        "  return val"
      ],
      "execution_count": 8,
      "outputs": []
    },
    {
      "cell_type": "markdown",
      "metadata": {
        "id": "TKaG20KgVn1Q"
      },
      "source": [
        "# 5. Relu"
      ]
    },
    {
      "cell_type": "code",
      "metadata": {
        "id": "hORprcA0Voct"
      },
      "source": [
        "def relu(x):\r\n",
        "  return max(0, x)"
      ],
      "execution_count": 9,
      "outputs": []
    },
    {
      "cell_type": "code",
      "metadata": {
        "colab": {
          "base_uri": "https://localhost:8080/",
          "height": 296
        },
        "id": "1nl1rfN1VrI4",
        "outputId": "a9dd7e34-ff6d-4138-e9b7-f72cba3f5137"
      },
      "source": [
        "x = np.arange(-10, 12)\r\n",
        "y = [relu(n) for n in x]\r\n",
        "\r\n",
        "plt.plot(x, y)\r\n",
        "plt.xlabel(\"X\")\r\n",
        "plt.ylabel(\"Relu\")"
      ],
      "execution_count": 10,
      "outputs": [
        {
          "output_type": "execute_result",
          "data": {
            "text/plain": [
              "Text(0, 0.5, 'Relu')"
            ]
          },
          "metadata": {
            "tags": []
          },
          "execution_count": 10
        },
        {
          "output_type": "display_data",
          "data": {
            "image/png": "[encoded data removed]",
            "text/plain": [
              "<Figure size 432x288 with 1 Axes>"
            ]
          },
          "metadata": {
            "tags": [],
            "needs_background": "light"
          }
        }
      ]
    },
    {
      "cell_type": "markdown",
      "metadata": {
        "id": "odhYJqRRVtNk"
      },
      "source": [
        "# 6. Softplus"
      ]
    },
    {
      "cell_type": "code",
      "metadata": {
        "id": "qXOQyyn3VvIx"
      },
      "source": [
        "def softplus(x):\r\n",
        "  return np.log(1 + np.exp(x))"
      ],
      "execution_count": 11,
      "outputs": []
    },
    {
      "cell_type": "code",
      "metadata": {
        "colab": {
          "base_uri": "https://localhost:8080/",
          "height": 296
        },
        "id": "6PyxpwdVVwpG",
        "outputId": "e082c541-a87b-405b-cb5d-b7f39b9db670"
      },
      "source": [
        "x = np.arange(-2, 3)\r\n",
        "y = [softplus(n) for n in x]\r\n",
        "\r\n",
        "plt.plot(x, y)\r\n",
        "plt.xlabel(\"X\")\r\n",
        "plt.ylabel(\"SoftPlus\")"
      ],
      "execution_count": 12,
      "outputs": [
        {
          "output_type": "execute_result",
          "data": {
            "text/plain": [
              "Text(0, 0.5, 'SoftPlus')"
            ]
          },
          "metadata": {
            "tags": []
          },
          "execution_count": 12
        },
        {
          "output_type": "display_data",
          "data": {
            "image/png": "[encoded data removed]",
            "text/plain": [
              "<Figure size 432x288 with 1 Axes>"
            ]
          },
          "metadata": {
            "tags": [],
            "needs_background": "light"
          }
        }
      ]
    },
    {
      "cell_type": "markdown",
      "metadata": {
        "id": "1cniGNPXVyoH"
      },
      "source": [
        "# 7. Logit"
      ]
    },
    {
      "cell_type": "code",
      "metadata": {
        "id": "zwfStsqpV0aN"
      },
      "source": [
        "def logit(x):\r\n",
        "  return np.log(x / (1-x))"
      ],
      "execution_count": 13,
      "outputs": []
    },
    {
      "cell_type": "code",
      "metadata": {
        "colab": {
          "base_uri": "https://localhost:8080/",
          "height": 296
        },
        "id": "DoasFAgSV1O_",
        "outputId": "13e8307c-7b7f-4799-c7f3-29755c0446ad"
      },
      "source": [
        "x = np.arange(0.001, 0.999, 0.0001)\r\n",
        "y = [logit(n) for n in x]\r\n",
        "\r\n",
        "plt.plot(x, y)\r\n",
        "plt.xlabel(\"Probability\")\r\n",
        "plt.ylabel(\"Logit - L\")"
      ],
      "execution_count": 14,
      "outputs": [
        {
          "output_type": "execute_result",
          "data": {
            "text/plain": [
              "Text(0, 0.5, 'Logit - L')"
            ]
          },
          "metadata": {
            "tags": []
          },
          "execution_count": 14
        },
        {
          "output_type": "display_data",
          "data": {
            "image/png": "[encoded data removed]",
            "text/plain": [
              "<Figure size 432x288 with 1 Axes>"
            ]
          },
          "metadata": {
            "tags": [],
            "needs_background": "light"
          }
        }
      ]
    },
    {
      "cell_type": "markdown",
      "metadata": {
        "id": "ZAsz6XZrV3Gl"
      },
      "source": [
        "# 8. ELU"
      ]
    },
    {
      "cell_type": "code",
      "metadata": {
        "id": "wYADZ1kCV6mB"
      },
      "source": [
        "def elu(x):\r\n",
        "  return (x if x > 0 else (0.01 * (np.exp(x) - 1)))"
      ],
      "execution_count": 15,
      "outputs": []
    },
    {
      "cell_type": "code",
      "metadata": {
        "colab": {
          "base_uri": "https://localhost:8080/",
          "height": 296
        },
        "id": "cDEb3urPV8ST",
        "outputId": "5d141446-497b-4cf3-d24a-a9520e1883cc"
      },
      "source": [
        "x = np.arange(-4, 5)\r\n",
        "y = [elu(n) for n in x]\r\n",
        "\r\n",
        "plt.plot(x, y)\r\n",
        "plt.xlabel(\"X\")\r\n",
        "plt.ylabel(\"ELU\")"
      ],
      "execution_count": 16,
      "outputs": [
        {
          "output_type": "execute_result",
          "data": {
            "text/plain": [
              "Text(0, 0.5, 'ELU')"
            ]
          },
          "metadata": {
            "tags": []
          },
          "execution_count": 16
        },
        {
          "output_type": "display_data",
          "data": {
            "image/png": "[encoded data removed]",
            "text/plain": [
              "<Figure size 432x288 with 1 Axes>"
            ]
          },
          "metadata": {
            "tags": [],
            "needs_background": "light"
          }
        }
      ]
    },
    {
      "cell_type": "markdown",
      "metadata": {
        "id": "Rcg_A5e3V-dI"
      },
      "source": [
        "# 9. Selu"
      ]
    },
    {
      "cell_type": "code",
      "metadata": {
        "id": "MigYy80VWAs8"
      },
      "source": [
        "def selu(x):\r\n",
        "  return (1.0507*x if x <= 0 else (1.0507 * 0.01 * (np.exp(x) - 1)))"
      ],
      "execution_count": 17,
      "outputs": []
    },
    {
      "cell_type": "markdown",
      "metadata": {
        "id": "oLQGGxcUWCpM"
      },
      "source": [
        "# 10. Gaussian"
      ]
    },
    {
      "cell_type": "code",
      "metadata": {
        "id": "zLy7pnLUWDRE"
      },
      "source": [
        "def gaussian(x):\r\n",
        "  return np.exp(-x**2)"
      ],
      "execution_count": 18,
      "outputs": []
    },
    {
      "cell_type": "markdown",
      "metadata": {
        "id": "JAMj06CGWFFB"
      },
      "source": [
        "# 11. Bent Identity"
      ]
    },
    {
      "cell_type": "code",
      "metadata": {
        "id": "lpj6DEdXWG0U"
      },
      "source": [
        "def bent_identity(x):\r\n",
        "  return ((np.sqrt((x**2) + 1) - 1) / 2 ) + x"
      ],
      "execution_count": 19,
      "outputs": []
    },
    {
      "cell_type": "markdown",
      "metadata": {
        "id": "WOcWB_YOWIlB"
      },
      "source": [
        "# 12. Binary Step"
      ]
    },
    {
      "cell_type": "code",
      "metadata": {
        "id": "yuBsFNEOWKZZ"
      },
      "source": [
        "def binary_step(x):\r\n",
        "  return (0 if x < 0  else 1)"
      ],
      "execution_count": 20,
      "outputs": []
    },
    {
      "cell_type": "markdown",
      "metadata": {
        "id": "uuopLKI7WNEt"
      },
      "source": [
        "# 13. Sinh"
      ]
    },
    {
      "cell_type": "code",
      "metadata": {
        "id": "nMTVOwUMWMOO"
      },
      "source": [
        "def sinh(x):\r\n",
        "  return (np.exp(x) - np.exp(-x)) /2 "
      ],
      "execution_count": 21,
      "outputs": []
    },
    {
      "cell_type": "markdown",
      "metadata": {
        "id": "7q-DYsdtWQio"
      },
      "source": [
        "# 14. Cosh"
      ]
    },
    {
      "cell_type": "code",
      "metadata": {
        "id": "7i2ntsCMWTdm"
      },
      "source": [
        "def cosh(x):\r\n",
        "  return (np.exp(x) + np.exp(-x)) /2"
      ],
      "execution_count": 22,
      "outputs": []
    },
    {
      "cell_type": "markdown",
      "metadata": {
        "id": "H7kIYVveWT8X"
      },
      "source": [
        "# 15. Sech"
      ]
    },
    {
      "cell_type": "code",
      "metadata": {
        "id": "mXjIYisFWUOA"
      },
      "source": [
        "def sech(x):\r\n",
        "  return (2 / (np.exp(x) + np.exp(-x)))"
      ],
      "execution_count": 23,
      "outputs": []
    }
  ]
}